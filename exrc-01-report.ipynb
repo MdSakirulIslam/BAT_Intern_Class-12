{
 "cells": [
  {
   "cell_type": "code",
   "execution_count": 1,
   "metadata": {},
   "outputs": [
    {
     "name": "stdout",
     "output_type": "stream",
     "text": [
      "Relative Humidity: 87.90138674884437\n",
      "Temperature Average: 2.7400286944045913\n",
      "Wind Speed: 3.9007173601147778\n",
      "Precipitation Amount: nan\n",
      "Pressure Average: 1012.6341463414634\n"
     ]
    }
   ],
   "source": [
    "import pandas as pd\n",
    "\n",
    "# Read the CSV file\n",
    "data = pd.read_csv(r\"G:\\Software and Materials\\BAT Intern Videos\\BAT_Intern_Video\\Class-12\\machine-larning\\weather_2024-11.csv\")\n",
    "\n",
    "# Pivot the data to have parameters as columns\n",
    "data_pivot = data.pivot(index='Time', columns='ParameterName', values='ParameterValue')\n",
    "\n",
    "# Convert columns to numeric\n",
    "data_pivot = data_pivot.apply(pd.to_numeric, errors='coerce')\n",
    "\n",
    "# Calculate required values\n",
    "relative_humidity = data_pivot['RH_PT1H_AVG'].mean()\n",
    "temperature_average = data_pivot['TA_PT1H_AVG'].mean()\n",
    "wind_speed = data_pivot['WS_PT1H_AVG'].mean()\n",
    "precipitation_amount = data_pivot['PRA_PT1H_ACC'].mean()\n",
    "pressure_average = data_pivot['PA_PT1H_AVG'].mean()\n",
    "\n",
    "print(\"Relative Humidity:\", relative_humidity)\n",
    "print(\"Temperature Average:\", temperature_average)\n",
    "print(\"Wind Speed:\", wind_speed)\n",
    "print(\"Precipitation Amount:\", precipitation_amount)\n",
    "print(\"Pressure Average:\", pressure_average)\n"
   ]
  }
 ],
 "metadata": {
  "kernelspec": {
   "display_name": "Python 3",
   "language": "python",
   "name": "python3"
  },
  "language_info": {
   "codemirror_mode": {
    "name": "ipython",
    "version": 3
   },
   "file_extension": ".py",
   "mimetype": "text/x-python",
   "name": "python",
   "nbconvert_exporter": "python",
   "pygments_lexer": "ipython3",
   "version": "3.12.2"
  }
 },
 "nbformat": 4,
 "nbformat_minor": 5
}
